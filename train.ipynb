{
  "nbformat": 4,
  "nbformat_minor": 0,
  "metadata": {
    "colab": {
      "name": "train.ipynb",
      "provenance": [],
      "collapsed_sections": []
    },
    "kernelspec": {
      "name": "python3",
      "display_name": "Python 3"
    },
    "accelerator": "GPU"
  },
  "cells": [
    {
      "cell_type": "code",
      "metadata": {
        "id": "ZkO9-RMJZYIL",
        "colab_type": "code",
        "colab": {}
      },
      "source": [
        "#!/usr/bin/env python3\n",
        "# -*- coding: utf-8 -*-"
      ],
      "execution_count": 0,
      "outputs": []
    },
    {
      "cell_type": "code",
      "metadata": {
        "id": "UJp6A3rRZZjI",
        "colab_type": "code",
        "colab": {}
      },
      "source": [
        "import torch\n",
        "import torch.nn as nn\n",
        "import torch.optim as optim\n",
        "import torch.utils.data as data\n",
        "from torch.autograd import Variable\n",
        "\n",
        "import numpy as np\n",
        "import itertools\n",
        "import matplotlib.pyplot as plt\n",
        "\n",
        "import networks as net\n",
        "import dataloader as dl\n",
        "import utils"
      ],
      "execution_count": 0,
      "outputs": []
    },
    {
      "cell_type": "code",
      "metadata": {
        "id": "ht0Cw20DZeMM",
        "colab_type": "code",
        "colab": {}
      },
      "source": [
        "# シード値の固定\n",
        "SEED = 42\n",
        "np.random.seed(SEED)\n",
        "torch.manual_seed(SEED)\n",
        "if torch.cuda.is_available():\n",
        "    torch.cuda.manual_seed(SEED)"
      ],
      "execution_count": 0,
      "outputs": []
    },
    {
      "cell_type": "code",
      "metadata": {
        "id": "k1Hz_DV1ZgZR",
        "colab_type": "code",
        "colab": {}
      },
      "source": [
        "# ハイパーパラメータの定義\n",
        "lr = 0.0001\n",
        "betas = (0.5, 0.999)\n",
        "batch_size = 64\n",
        "input_size = 128  # patch_size = 8(128/2^4)\n",
        "num_epochs = 30\n",
        "lambda_cycle = 10.0\n",
        "lambda_identity = 5.0"
      ],
      "execution_count": 0,
      "outputs": []
    },
    {
      "cell_type": "code",
      "metadata": {
        "id": "1ZYYQKE3ZjS8",
        "colab_type": "code",
        "colab": {
          "base_uri": "https://localhost:8080/",
          "height": 35
        },
        "outputId": "fa256059-8443-46ca-dbdd-de83acfd5d1c"
      },
      "source": [
        "# GPUが使用できるか確認\n",
        "device = torch.device('cuda:0' if torch.cuda.is_available() else 'cpu')\n",
        "print('使用デバイス：', device)"
      ],
      "execution_count": 5,
      "outputs": [
        {
          "output_type": "stream",
          "text": [
            "使用デバイス： cuda:0\n"
          ],
          "name": "stdout"
        }
      ]
    },
    {
      "cell_type": "code",
      "metadata": {
        "id": "DZnSfK0yZnan",
        "colab_type": "code",
        "colab": {
          "base_uri": "https://localhost:8080/",
          "height": 35
        },
        "outputId": "4e61a145-d041-4ebf-b127-f9d795211900"
      },
      "source": [
        "# 各生成器と判別器をインスタンス化\n",
        "G_A2B = net.Generator()\n",
        "G_B2A = net.Generator()\n",
        "D_A = net.Discriminator()\n",
        "D_B = net.Discriminator()\n",
        "\n",
        "# GPUが使用できるならモデルをGPUに載せて初期化\n",
        "if device == 'cuda:0':\n",
        "    G_A2B.cuda()\n",
        "    G_B2A.cuda()\n",
        "    D_A.cuda()\n",
        "    D_B.cuda()\n",
        "\n",
        "print('ネットワークの初期化中...', end='')\n",
        "G_A2B.apply(utils.weights_init)\n",
        "G_B2A.apply(utils.weights_init)\n",
        "D_A.apply(utils.weights_init)\n",
        "D_B.apply(utils.weights_init)\n",
        "print('完了！')"
      ],
      "execution_count": 6,
      "outputs": [
        {
          "output_type": "stream",
          "text": [
            "ネットワークの初期化中...完了！\n"
          ],
          "name": "stdout"
        }
      ]
    },
    {
      "cell_type": "code",
      "metadata": {
        "id": "0aleELdSZrDP",
        "colab_type": "code",
        "colab": {}
      },
      "source": [
        "# 損失関数を定義\n",
        "criterion_adversarial = nn.MSELoss()  # 敵対的損失，Mean Squared Error\n",
        "criterion_cycle = nn.L1Loss()         # サイクル一貫性損失，Mean Absorute Error\n",
        "criterion_identity = nn.L1Loss()      # 同一性損失"
      ],
      "execution_count": 0,
      "outputs": []
    },
    {
      "cell_type": "code",
      "metadata": {
        "id": "DKKGGU9oZtNy",
        "colab_type": "code",
        "colab": {}
      },
      "source": [
        "# 最適化手法の設定，Generatorは二つのモデルのパラメータを同時に更新\n",
        "optimizer_G = optim.Adam(itertools.chain(G_A2B.parameters(), G_B2A.parameters()),\n",
        "                         lr=lr, betas=betas)\n",
        "optimizer_D_A = optim.Adam(D_A.parameters(), lr=lr, betas=betas)\n",
        "optimizer_D_B = optim.Adam(D_B.parameters(), lr=lr, betas=betas)"
      ],
      "execution_count": 0,
      "outputs": []
    },
    {
      "cell_type": "code",
      "metadata": {
        "id": "4DMMssvaZvAU",
        "colab_type": "code",
        "colab": {}
      },
      "source": [
        "# 識別器への画像提供(過去の履歴画像:50%，最新の生成画像:50%)のヘルパクラス\n",
        "fake_A_buffer = utils.PreviousBuffer()\n",
        "fake_B_buffer = utils.PreviousBuffer()"
      ],
      "execution_count": 0,
      "outputs": []
    },
    {
      "cell_type": "code",
      "metadata": {
        "id": "kI05eRvOZxGe",
        "colab_type": "code",
        "colab": {}
      },
      "source": [
        "# 真偽判定に用いるテンソルを定義(パッチ形式)\n",
        "Tensor = torch.cuda.FloatTensor if device == 'cuda:0' else torch.Tensor\n",
        "target_real = Variable(Tensor(batch_size, 1, 8, 8).fill_(1.0), requires_grad=False)\n",
        "target_fake = Variable(Tensor(batch_size, 1, 8, 8).fill_(0.0), requires_grad=False)"
      ],
      "execution_count": 0,
      "outputs": []
    },
    {
      "cell_type": "code",
      "metadata": {
        "id": "0RW4poiUZ0fa",
        "colab_type": "code",
        "colab": {}
      },
      "source": [
        "# データセットのパスを取得\n",
        "train_img_A, train_img_B = dl.make_datapath_list(is_train=True)\n",
        "\n",
        "# Datasetを作成\n",
        "mean = (0.5,)\n",
        "std = (0.5,)\n",
        "train_dataset = dl.UnpairedDataset(train_img_A, train_img_B,\n",
        "                                   transform=dl.ImageTransform(mean, std))\n",
        "\n",
        "# DataLoaderを作成\n",
        "train_dataloader = data.DataLoader(train_dataset,\n",
        "                                   batch_size=batch_size,\n",
        "                                   shuffle=True)"
      ],
      "execution_count": 0,
      "outputs": []
    },
    {
      "cell_type": "code",
      "metadata": {
        "id": "RSyqTNXpaWdE",
        "colab_type": "code",
        "colab": {}
      },
      "source": [
        "# ログ保存用\n",
        "loss_dict = dict()\n",
        "keys = ['loss_G', 'loss_D', 'loss_G_identity', 'loss_G_adversarial', 'loss_G_cycle']\n",
        "for k in keys:\n",
        "    loss_dict[k] = list()"
      ],
      "execution_count": 0,
      "outputs": []
    },
    {
      "cell_type": "code",
      "metadata": {
        "id": "HK2siIx2Y_H_",
        "colab_type": "code",
        "colab": {
          "base_uri": "https://localhost:8080/",
          "height": 35
        },
        "outputId": "f6675dca-0c38-492f-ecec-d32f16979a86"
      },
      "source": [
        "# 訓練\n",
        "for epoch in range(num_epochs):\n",
        "    print('batch training', end='')\n",
        "    for i, batch in enumerate(train_dataloader):\n",
        "        real_A = batch['A']\n",
        "        real_B = batch['B']\n",
        "\n",
        "        # バッチの最後が端数の場合の処理，画像のバッチ数がハイパーパラメータと異なっていたらtargetのサイズを変える/戻す\n",
        "        if real_A.shape[0] != batch_size:\n",
        "            target_real = Variable(Tensor(real_A.shape[0], 1, 8, 8).fill_(1.0), requires_grad=False)\n",
        "            target_fake = Variable(Tensor(real_A.shape[0], 1, 8, 8).fill_(0.0), requires_grad=False)\n",
        "        else:\n",
        "            target_real = Variable(Tensor(batch_size, 1, 8, 8).fill_(1.0), requires_grad=False)\n",
        "            target_fake = Variable(Tensor(batch_size, 1, 8, 8).fill_(0.0), requires_grad=False)\n",
        "\n",
        "        ########## Generatorの訓練 ##########\n",
        "        optimizer_G.zero_grad()\n",
        "\n",
        "        # identity loss: 同一性損失\n",
        "        # 本物のBがきたら，G_A2B(B)は本物のBと同じである必要がある\n",
        "        same_B = G_A2B(real_B)\n",
        "        loss_identity_B = criterion_identity(same_B, real_B) * lambda_identity\n",
        "        # 本物のAがきたら，G_B2A(A)は本物のAと同じである必要がある\n",
        "        same_A = G_B2A(real_A)\n",
        "        loss_identity_A = criterion_identity(same_A, real_A) * lambda_identity\n",
        "\n",
        "        # adversarial loss: 敵対的損失\n",
        "        fake_B = G_A2B(real_A)\n",
        "        pred_fake = D_B(fake_B)\n",
        "        loss_adversarial_A2B = criterion_adversarial(pred_fake, target_real)\n",
        "\n",
        "        fake_A = G_B2A(real_B)\n",
        "        pred_fake = D_A(fake_A)\n",
        "        loss_adversarial_B2A = criterion_adversarial(pred_fake, target_real)\n",
        "\n",
        "        # cycle consistency loss: サイクル一貫性損失\n",
        "        reconstruct_A = G_B2A(fake_B)\n",
        "        loss_cycle_ABA = criterion_cycle(reconstruct_A, real_A) * lambda_cycle\n",
        "\n",
        "        reconstruct_B = G_A2B(fake_A)\n",
        "        loss_cycle_BAB = criterion_cycle(reconstruct_B, real_B) * lambda_cycle\n",
        "\n",
        "        # 各損失の合計を算出\n",
        "        loss_G = loss_identity_A + loss_identity_B + \\\n",
        "                 loss_adversarial_A2B + loss_adversarial_B2A + \\\n",
        "                 loss_cycle_ABA + loss_cycle_BAB\n",
        "        \n",
        "        # 逆伝播して，更新\n",
        "        loss_G.backward()\n",
        "        optimizer_G.step()\n",
        "        ##############################\n",
        "\n",
        "        ########## Discriminator A の訓練 ##########\n",
        "        optimizer_D_A.zero_grad()\n",
        "\n",
        "        # Real loss(本物を本物と判断できれば0)\n",
        "        pred_real = D_A(real_A)\n",
        "        loss_D_A_real = criterion_adversarial(pred_real, target_real)\n",
        "\n",
        "        # Fake loss(偽物を偽物と判断できれば0)\n",
        "        fake_A = fake_A_buffer.push_and_pop(fake_A)\n",
        "        pred_fake = D_A(fake_A.detach())\n",
        "        loss_D_A_fake = criterion_adversarial(pred_fake, target_fake)\n",
        "\n",
        "        # Total loss\n",
        "        loss_D_A = (loss_D_A_real + loss_D_A_fake) * 0.5\n",
        "\n",
        "        # 逆伝播して，更新\n",
        "        loss_D_A.backward()\n",
        "        optimizer_D_A.step()\n",
        "        ##############################\n",
        "\n",
        "        ########## Discriminator B の訓練 ##########\n",
        "        optimizer_D_B.zero_grad()\n",
        "\n",
        "        # Real loss\n",
        "        pred_real = D_B(real_B)\n",
        "        loss_D_B_real = criterion_adversarial(pred_real, target_real)\n",
        "\n",
        "        # Fake loss\n",
        "        fake_B = fake_B_buffer.push_and_pop(fake_B)\n",
        "        pred_fake = D_B(fake_B.detach())\n",
        "        loss_D_B_fake = criterion_adversarial(pred_fake, target_fake)\n",
        "\n",
        "        # Total loss\n",
        "        loss_D_B = (loss_D_B_real + loss_D_B_fake) * 0.5\n",
        "\n",
        "        # 逆伝播して，更新\n",
        "        loss_D_B.backward()\n",
        "        optimizer_D_B.step()\n",
        "        ##############################\n",
        "        print('.', end='')\n",
        "    \n",
        "    # 1エポックごとにログ出力\n",
        "    print()\n",
        "    print('*' * 10, 'epoch {} finish!'.format(epoch), '*' * 10)\n",
        "    print('loss_G:', loss_G, 'loss_D:', (loss_D_A + loss_D_B))\n",
        "    print('loss_G_identity:', (loss_identity_A + loss_identity_B),\n",
        "            'loss_G_adversarial:', (loss_adversarial_A2B + loss_adversarial_B2A),\n",
        "            'loss_G_cycle:', (loss_cycle_ABA + loss_cycle_BAB))\n",
        "    print('*' * 30)\n",
        "    print()\n",
        "\n",
        "    # 1エポックごとにログ保存\n",
        "    loss_dict['loss_G'].append(loss_G)\n",
        "    loss_dict['loss_D'].append(loss_D_A + loss_D_B)\n",
        "    loss_dict['loss_G_identity'].append(loss_identity_A + loss_identity_B)\n",
        "    loss_dict['loss_G_adversarial'].append(loss_adversarial_A2B + loss_adversarial_B2A)\n",
        "    loss_dict['loss_G_cycle'].append(loss_cycle_ABA + loss_cycle_BAB)\n",
        "    \n",
        "    # 10エポックごとにモデルを保存\n",
        "    if epoch+1 % 10 == 0:\n",
        "        torch.save(G_A2B.state_dict(), 'models/G_A2B_epoch{}.pth'.format(epoch+1))\n",
        "        torch.save(G_B2A.state_dict(), 'models/G_B2A_epoch{}.pth'.format(epoch+1))\n",
        "        torch.save(D_A.state_dict(), 'models/D_A_epoch{}.pth'.format(epoch+1))\n",
        "        torch.save(D_B.state_dict(), 'models/D_B_epoch{}.pth'.format(epoch+1))"
      ],
      "execution_count": 0,
      "outputs": [
        {
          "output_type": "stream",
          "text": [
            "batch training"
          ],
          "name": "stdout"
        }
      ]
    },
    {
      "cell_type": "code",
      "metadata": {
        "id": "OoQafXxiZWrs",
        "colab_type": "code",
        "colab": {
          "base_uri": "https://localhost:8080/",
          "height": 35
        },
        "outputId": "10112e3e-c47d-4fc3-9e82-e452d25c889e"
      },
      "source": [
        "# 損失関数の学習結果をプロット\n",
        "plt.figure(figsize=(12, 4))\n",
        "\n",
        "plt.subplot(231)\n",
        "plt.plot(loss_dict['loss_G'])\n",
        "plt.xlabel('Epochs')\n",
        "plt.ylabel('loss_G')\n",
        "plt.title('Generator Loss')\n",
        "\n",
        "plt.subplot(232)\n",
        "plt.plot(loss_dict['loss_D'])\n",
        "plt.xlabel('Epochs')\n",
        "plt.ylabel('loss_D')\n",
        "plt.title('Discriminator Loss')\n",
        "\n",
        "plt.subplot(234)\n",
        "plt.plot(loss_dict['loss_G_identity'])\n",
        "plt.xlabel('Epochs')\n",
        "plt.ylabel('loss_G_identity')\n",
        "plt.title('Generator Identity Loss')\n",
        "\n",
        "plt.subplot(235)\n",
        "plt.plot(loss_dict['loss_G_adversarial'])\n",
        "plt.xlabel('Epochs')\n",
        "plt.ylabel('loss_G_adversarial')\n",
        "plt.title('Generator Adversarial Loss')\n",
        "\n",
        "plt.subplot(236)\n",
        "plt.plot(loss_dict['loss_G_cycle'])\n",
        "plt.xlabel('Epochs')\n",
        "plt.ylabel('loss_G_cycle')\n",
        "plt.title('Generator Cycle-Consistency Loss')\n",
        "\n",
        "plt.show()"
      ],
      "execution_count": 15,
      "outputs": [
        {
          "output_type": "execute_result",
          "data": {
            "text/plain": [
              "35"
            ]
          },
          "metadata": {
            "tags": []
          },
          "execution_count": 15
        }
      ]
    },
    {
      "cell_type": "code",
      "metadata": {
        "id": "mEZ64kU-p1C9",
        "colab_type": "code",
        "colab": {}
      },
      "source": [
        ""
      ],
      "execution_count": 0,
      "outputs": []
    }
  ]
}